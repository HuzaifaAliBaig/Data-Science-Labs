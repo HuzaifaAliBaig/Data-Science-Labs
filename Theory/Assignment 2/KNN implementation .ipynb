{
 "cells": [
  {
   "cell_type": "code",
   "execution_count": 105,
   "metadata": {},
   "outputs": [],
   "source": [
    "import pandas as pd\n",
    "import numpy as np\n",
    "from sklearn.model_selection import train_test_split\n",
    "from sklearn.preprocessing import StandardScaler\n",
    "from sklearn.neighbors import KNeighborsClassifier\n",
    "from sklearn.metrics import accuracy_score, precision_score, recall_score\n",
    "from sklearn.model_selection import cross_val_score,KFold"
   ]
  },
  {
   "cell_type": "markdown",
   "metadata": {},
   "source": [
    "**CREATING DATASET**"
   ]
  },
  {
   "cell_type": "code",
   "execution_count": 106,
   "metadata": {},
   "outputs": [],
   "source": [
    "data = {\n",
    "    'Engine Size': [2.0, 3.5, 2.5, 4.0, 1.8, 3.0, 2.2, 3.8],\n",
    "    'Horsepower': [180, 250, 200, 300, 150, 220, 170, 280],\n",
    "    'Fuel Efficiency': [25, 20, 30, 18, 35, 22, 28, 17],\n",
    "    'Fuel Efficient': ['Yes', 'No', 'Yes', 'No', 'Yes', 'No', 'Yes', 'No']\n",
    "}\n",
    "df = pd.DataFrame(data)"
   ]
  },
  {
   "cell_type": "code",
   "execution_count": 107,
   "metadata": {},
   "outputs": [],
   "source": [
    "X = df[['Engine Size', 'Horsepower', 'Fuel Efficiency']]\n",
    "y = df['Fuel Efficient']"
   ]
  },
  {
   "cell_type": "markdown",
   "metadata": {},
   "source": [
    "Splitting dataset (20% Testing and 80% Training set)"
   ]
  },
  {
   "cell_type": "code",
   "execution_count": 108,
   "metadata": {},
   "outputs": [],
   "source": [
    "X_train, X_test, y_train, y_test = train_test_split(X, y, test_size=0.2, random_state=42, stratify=y)\n"
   ]
  },
  {
   "cell_type": "markdown",
   "metadata": {},
   "source": [
    "*NORMALIZE THE FEATURES*"
   ]
  },
  {
   "cell_type": "code",
   "execution_count": 109,
   "metadata": {},
   "outputs": [],
   "source": [
    "scaler = StandardScaler()\n",
    "X_scaled = scaler.fit_transform(X)\n",
    "X_train_scaled = scaler.fit_transform(X_train)\n",
    "X_test_scaled = scaler.transform(X_test)"
   ]
  },
  {
   "cell_type": "markdown",
   "metadata": {},
   "source": [
    "**IMPLEMENTING KNN ALGORITHM**"
   ]
  },
  {
   "cell_type": "code",
   "execution_count": 110,
   "metadata": {},
   "outputs": [],
   "source": [
    "def knn_classifier(k):\n",
    "    knn_model = KNeighborsClassifier(n_neighbors=k)\n",
    "    knn_model.fit(X_train_scaled, y_train)\n",
    "    y_pred = knn_model.predict(X_test_scaled)\n",
    "    return y_pred"
   ]
  },
  {
   "cell_type": "markdown",
   "metadata": {},
   "source": [
    "*Function to evaluate Performance*"
   ]
  },
  {
   "cell_type": "code",
   "execution_count": 111,
   "metadata": {},
   "outputs": [],
   "source": [
    "def evaluation(y_true, y_pred):\n",
    "    accuracy = accuracy_score(y_true, y_pred)\n",
    "    precision = precision_score(y_true, y_pred, pos_label='Yes')\n",
    "    recall = recall_score(y_true, y_pred, pos_label='Yes')\n",
    "    return accuracy, precision, recall"
   ]
  },
  {
   "cell_type": "code",
   "execution_count": 112,
   "metadata": {},
   "outputs": [],
   "source": [
    "k_values = np.arange(1, len(X_train) + 1)\n"
   ]
  },
  {
   "cell_type": "markdown",
   "metadata": {},
   "source": [
    "*Evaluating for each value of K*\n"
   ]
  },
  {
   "cell_type": "code",
   "execution_count": 113,
   "metadata": {},
   "outputs": [
    {
     "name": "stdout",
     "output_type": "stream",
     "text": [
      "For k=1: Accuracy=100.0%, Precision=1.0, Recall=1.0\n",
      "For k=2: Accuracy=100.0%, Precision=1.0, Recall=1.0\n",
      "For k=3: Accuracy=50.0%, Precision=0.5, Recall=1.0\n",
      "For k=4: Accuracy=100.0%, Precision=1.0, Recall=1.0\n",
      "For k=5: Accuracy=50.0%, Precision=0.5, Recall=1.0\n",
      "For k=6: Accuracy=50.0%, Precision=0.0, Recall=0.0\n"
     ]
    },
    {
     "name": "stderr",
     "output_type": "stream",
     "text": [
      "c:\\Python312\\Lib\\site-packages\\sklearn\\metrics\\_classification.py:1469: UndefinedMetricWarning: Precision is ill-defined and being set to 0.0 due to no predicted samples. Use `zero_division` parameter to control this behavior.\n",
      "  _warn_prf(average, modifier, msg_start, len(result))\n"
     ]
    }
   ],
   "source": [
    "for k in k_values:\n",
    "    y_pred = knn_classifier(k)\n",
    "    accuracy, precision, recall = evaluation(y_test, y_pred)\n",
    "    print(f'For k={k}: Accuracy={accuracy*100}%, Precision={precision}, Recall={recall}')\n"
   ]
  },
  {
   "cell_type": "markdown",
   "metadata": {},
   "source": [
    "*Performing Cross Validation (OPTIONAL)*"
   ]
  },
  {
   "cell_type": "code",
   "execution_count": 114,
   "metadata": {},
   "outputs": [
    {
     "name": "stdout",
     "output_type": "stream",
     "text": [
      "For k=1: Cross-validated Accuracy: 90.00% (+/- 40.00%)\n",
      "For k=2: Cross-validated Accuracy: 90.00% (+/- 40.00%)\n",
      "For k=3: Cross-validated Accuracy: 90.00% (+/- 40.00%)\n",
      "For k=4: Cross-validated Accuracy: 70.00% (+/- 80.00%)\n",
      "For k=5: Cross-validated Accuracy: 60.00% (+/- 97.98%)\n",
      "For k=6: Cross-validated Accuracy: 30.00% (+/- 80.00%)\n"
     ]
    }
   ],
   "source": [
    "for k in k_values:\n",
    "    knn_model = KNeighborsClassifier(n_neighbors=k)\n",
    "    cv = KFold(n_splits=5, shuffle=True, random_state=42)\n",
    "    scores = cross_val_score(knn_model, X_scaled, y, cv=cv, scoring='accuracy')\n",
    "    print(f'For k={k}: Cross-validated Accuracy: {scores.mean():.2%} (+/- {scores.std() * 2:.2%})')"
   ]
  }
 ],
 "metadata": {
  "kernelspec": {
   "display_name": "Python 3",
   "language": "python",
   "name": "python3"
  },
  "language_info": {
   "codemirror_mode": {
    "name": "ipython",
    "version": 3
   },
   "file_extension": ".py",
   "mimetype": "text/x-python",
   "name": "python",
   "nbconvert_exporter": "python",
   "pygments_lexer": "ipython3",
   "version": "3.12.0"
  }
 },
 "nbformat": 4,
 "nbformat_minor": 2
}
