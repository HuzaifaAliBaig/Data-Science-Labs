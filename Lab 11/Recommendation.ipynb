{
 "cells": [
  {
   "cell_type": "code",
   "execution_count": 77,
   "metadata": {},
   "outputs": [],
   "source": [
    "import pandas as pd\n",
    "import numpy as np\n",
    "import matplotlib.pyplot as plt\n",
    "import seaborn as sns\n",
    "import pandas as pd\n",
    "from sklearn.feature_extraction.text import CountVectorizer\n",
    "from sklearn.metrics.pairwise import cosine_similarity\n"
   ]
  },
  {
   "cell_type": "code",
   "execution_count": 78,
   "metadata": {},
   "outputs": [],
   "source": [
    "df = pd.read_csv('film.csv', encoding='latin1', delimiter=';')\n"
   ]
  },
  {
   "cell_type": "code",
   "execution_count": 79,
   "metadata": {},
   "outputs": [
    {
     "data": {
      "text/html": [
       "<div>\n",
       "<style scoped>\n",
       "    .dataframe tbody tr th:only-of-type {\n",
       "        vertical-align: middle;\n",
       "    }\n",
       "\n",
       "    .dataframe tbody tr th {\n",
       "        vertical-align: top;\n",
       "    }\n",
       "\n",
       "    .dataframe thead th {\n",
       "        text-align: right;\n",
       "    }\n",
       "</style>\n",
       "<table border=\"1\" class=\"dataframe\">\n",
       "  <thead>\n",
       "    <tr style=\"text-align: right;\">\n",
       "      <th></th>\n",
       "      <th>Year</th>\n",
       "      <th>Length</th>\n",
       "      <th>Title</th>\n",
       "      <th>Subject</th>\n",
       "      <th>Actor</th>\n",
       "      <th>Actress</th>\n",
       "      <th>Director</th>\n",
       "      <th>Popularity</th>\n",
       "      <th>Awards</th>\n",
       "      <th>*Image</th>\n",
       "    </tr>\n",
       "  </thead>\n",
       "  <tbody>\n",
       "    <tr>\n",
       "      <th>0</th>\n",
       "      <td>INT</td>\n",
       "      <td>INT</td>\n",
       "      <td>STRING</td>\n",
       "      <td>CAT</td>\n",
       "      <td>CAT</td>\n",
       "      <td>CAT</td>\n",
       "      <td>CAT</td>\n",
       "      <td>INT</td>\n",
       "      <td>BOOL</td>\n",
       "      <td>STRING</td>\n",
       "    </tr>\n",
       "    <tr>\n",
       "      <th>1</th>\n",
       "      <td>1990</td>\n",
       "      <td>111</td>\n",
       "      <td>Tie Me Up! Tie Me Down!</td>\n",
       "      <td>Comedy</td>\n",
       "      <td>Banderas, Antonio</td>\n",
       "      <td>Abril, Victoria</td>\n",
       "      <td>Almodóvar, Pedro</td>\n",
       "      <td>68</td>\n",
       "      <td>No</td>\n",
       "      <td>NicholasCage.png</td>\n",
       "    </tr>\n",
       "    <tr>\n",
       "      <th>2</th>\n",
       "      <td>1991</td>\n",
       "      <td>113</td>\n",
       "      <td>High Heels</td>\n",
       "      <td>Comedy</td>\n",
       "      <td>Bosé, Miguel</td>\n",
       "      <td>Abril, Victoria</td>\n",
       "      <td>Almodóvar, Pedro</td>\n",
       "      <td>68</td>\n",
       "      <td>No</td>\n",
       "      <td>NicholasCage.png</td>\n",
       "    </tr>\n",
       "    <tr>\n",
       "      <th>3</th>\n",
       "      <td>1983</td>\n",
       "      <td>104</td>\n",
       "      <td>Dead Zone, The</td>\n",
       "      <td>Horror</td>\n",
       "      <td>Walken, Christopher</td>\n",
       "      <td>Adams, Brooke</td>\n",
       "      <td>Cronenberg, David</td>\n",
       "      <td>79</td>\n",
       "      <td>No</td>\n",
       "      <td>NicholasCage.png</td>\n",
       "    </tr>\n",
       "    <tr>\n",
       "      <th>4</th>\n",
       "      <td>1979</td>\n",
       "      <td>122</td>\n",
       "      <td>Cuba</td>\n",
       "      <td>Action</td>\n",
       "      <td>Connery, Sean</td>\n",
       "      <td>Adams, Brooke</td>\n",
       "      <td>Lester, Richard</td>\n",
       "      <td>6</td>\n",
       "      <td>No</td>\n",
       "      <td>seanConnery.png</td>\n",
       "    </tr>\n",
       "  </tbody>\n",
       "</table>\n",
       "</div>"
      ],
      "text/plain": [
       "   Year Length                    Title Subject                Actor  \\\n",
       "0   INT    INT                   STRING     CAT                  CAT   \n",
       "1  1990    111  Tie Me Up! Tie Me Down!  Comedy    Banderas, Antonio   \n",
       "2  1991    113               High Heels  Comedy         Bosé, Miguel   \n",
       "3  1983    104           Dead Zone, The  Horror  Walken, Christopher   \n",
       "4  1979    122                     Cuba  Action        Connery, Sean   \n",
       "\n",
       "           Actress           Director Popularity Awards            *Image  \n",
       "0              CAT                CAT        INT   BOOL            STRING  \n",
       "1  Abril, Victoria   Almodóvar, Pedro         68     No  NicholasCage.png  \n",
       "2  Abril, Victoria   Almodóvar, Pedro         68     No  NicholasCage.png  \n",
       "3    Adams, Brooke  Cronenberg, David         79     No  NicholasCage.png  \n",
       "4    Adams, Brooke    Lester, Richard          6     No   seanConnery.png  "
      ]
     },
     "execution_count": 79,
     "metadata": {},
     "output_type": "execute_result"
    }
   ],
   "source": [
    "df.head()"
   ]
  },
  {
   "cell_type": "code",
   "execution_count": 80,
   "metadata": {},
   "outputs": [],
   "source": [
    "#drop first row\n",
    "df = df.drop([0])\n"
   ]
  },
  {
   "cell_type": "code",
   "execution_count": 81,
   "metadata": {},
   "outputs": [
    {
     "data": {
      "text/html": [
       "<div>\n",
       "<style scoped>\n",
       "    .dataframe tbody tr th:only-of-type {\n",
       "        vertical-align: middle;\n",
       "    }\n",
       "\n",
       "    .dataframe tbody tr th {\n",
       "        vertical-align: top;\n",
       "    }\n",
       "\n",
       "    .dataframe thead th {\n",
       "        text-align: right;\n",
       "    }\n",
       "</style>\n",
       "<table border=\"1\" class=\"dataframe\">\n",
       "  <thead>\n",
       "    <tr style=\"text-align: right;\">\n",
       "      <th></th>\n",
       "      <th>Year</th>\n",
       "      <th>Length</th>\n",
       "      <th>Title</th>\n",
       "      <th>Subject</th>\n",
       "      <th>Actor</th>\n",
       "      <th>Actress</th>\n",
       "      <th>Director</th>\n",
       "      <th>Popularity</th>\n",
       "      <th>Awards</th>\n",
       "      <th>*Image</th>\n",
       "    </tr>\n",
       "  </thead>\n",
       "  <tbody>\n",
       "    <tr>\n",
       "      <th>1</th>\n",
       "      <td>1990</td>\n",
       "      <td>111</td>\n",
       "      <td>Tie Me Up! Tie Me Down!</td>\n",
       "      <td>Comedy</td>\n",
       "      <td>Banderas, Antonio</td>\n",
       "      <td>Abril, Victoria</td>\n",
       "      <td>Almodóvar, Pedro</td>\n",
       "      <td>68</td>\n",
       "      <td>No</td>\n",
       "      <td>NicholasCage.png</td>\n",
       "    </tr>\n",
       "  </tbody>\n",
       "</table>\n",
       "</div>"
      ],
      "text/plain": [
       "   Year Length                    Title Subject              Actor  \\\n",
       "1  1990    111  Tie Me Up! Tie Me Down!  Comedy  Banderas, Antonio   \n",
       "\n",
       "           Actress          Director Popularity Awards            *Image  \n",
       "1  Abril, Victoria  Almodóvar, Pedro         68     No  NicholasCage.png  "
      ]
     },
     "execution_count": 81,
     "metadata": {},
     "output_type": "execute_result"
    }
   ],
   "source": [
    "df.head(1)"
   ]
  },
  {
   "cell_type": "code",
   "execution_count": 82,
   "metadata": {},
   "outputs": [],
   "source": [
    "#drop image column\n",
    "df = df.drop(['*Image'], axis=1)\n"
   ]
  },
  {
   "cell_type": "code",
   "execution_count": 83,
   "metadata": {},
   "outputs": [
    {
     "data": {
      "text/html": [
       "<div>\n",
       "<style scoped>\n",
       "    .dataframe tbody tr th:only-of-type {\n",
       "        vertical-align: middle;\n",
       "    }\n",
       "\n",
       "    .dataframe tbody tr th {\n",
       "        vertical-align: top;\n",
       "    }\n",
       "\n",
       "    .dataframe thead th {\n",
       "        text-align: right;\n",
       "    }\n",
       "</style>\n",
       "<table border=\"1\" class=\"dataframe\">\n",
       "  <thead>\n",
       "    <tr style=\"text-align: right;\">\n",
       "      <th></th>\n",
       "      <th>Year</th>\n",
       "      <th>Length</th>\n",
       "      <th>Title</th>\n",
       "      <th>Subject</th>\n",
       "      <th>Actor</th>\n",
       "      <th>Actress</th>\n",
       "      <th>Director</th>\n",
       "      <th>Popularity</th>\n",
       "      <th>Awards</th>\n",
       "    </tr>\n",
       "  </thead>\n",
       "  <tbody>\n",
       "    <tr>\n",
       "      <th>1</th>\n",
       "      <td>1990</td>\n",
       "      <td>111</td>\n",
       "      <td>Tie Me Up! Tie Me Down!</td>\n",
       "      <td>Comedy</td>\n",
       "      <td>Banderas, Antonio</td>\n",
       "      <td>Abril, Victoria</td>\n",
       "      <td>Almodóvar, Pedro</td>\n",
       "      <td>68</td>\n",
       "      <td>No</td>\n",
       "    </tr>\n",
       "    <tr>\n",
       "      <th>2</th>\n",
       "      <td>1991</td>\n",
       "      <td>113</td>\n",
       "      <td>High Heels</td>\n",
       "      <td>Comedy</td>\n",
       "      <td>Bosé, Miguel</td>\n",
       "      <td>Abril, Victoria</td>\n",
       "      <td>Almodóvar, Pedro</td>\n",
       "      <td>68</td>\n",
       "      <td>No</td>\n",
       "    </tr>\n",
       "    <tr>\n",
       "      <th>3</th>\n",
       "      <td>1983</td>\n",
       "      <td>104</td>\n",
       "      <td>Dead Zone, The</td>\n",
       "      <td>Horror</td>\n",
       "      <td>Walken, Christopher</td>\n",
       "      <td>Adams, Brooke</td>\n",
       "      <td>Cronenberg, David</td>\n",
       "      <td>79</td>\n",
       "      <td>No</td>\n",
       "    </tr>\n",
       "    <tr>\n",
       "      <th>4</th>\n",
       "      <td>1979</td>\n",
       "      <td>122</td>\n",
       "      <td>Cuba</td>\n",
       "      <td>Action</td>\n",
       "      <td>Connery, Sean</td>\n",
       "      <td>Adams, Brooke</td>\n",
       "      <td>Lester, Richard</td>\n",
       "      <td>6</td>\n",
       "      <td>No</td>\n",
       "    </tr>\n",
       "    <tr>\n",
       "      <th>5</th>\n",
       "      <td>1978</td>\n",
       "      <td>94</td>\n",
       "      <td>Days of Heaven</td>\n",
       "      <td>Drama</td>\n",
       "      <td>Gere, Richard</td>\n",
       "      <td>Adams, Brooke</td>\n",
       "      <td>Malick, Terrence</td>\n",
       "      <td>14</td>\n",
       "      <td>No</td>\n",
       "    </tr>\n",
       "    <tr>\n",
       "      <th>...</th>\n",
       "      <td>...</td>\n",
       "      <td>...</td>\n",
       "      <td>...</td>\n",
       "      <td>...</td>\n",
       "      <td>...</td>\n",
       "      <td>...</td>\n",
       "      <td>...</td>\n",
       "      <td>...</td>\n",
       "      <td>...</td>\n",
       "    </tr>\n",
       "    <tr>\n",
       "      <th>1655</th>\n",
       "      <td>1932</td>\n",
       "      <td>226</td>\n",
       "      <td>Shadow of the Eagle, The</td>\n",
       "      <td>Action</td>\n",
       "      <td>Wayne, John</td>\n",
       "      <td>NaN</td>\n",
       "      <td>NaN</td>\n",
       "      <td>19</td>\n",
       "      <td>No</td>\n",
       "    </tr>\n",
       "    <tr>\n",
       "      <th>1656</th>\n",
       "      <td>1989</td>\n",
       "      <td>103</td>\n",
       "      <td>Blood &amp; Guns</td>\n",
       "      <td>Action</td>\n",
       "      <td>Welles, Orson</td>\n",
       "      <td>NaN</td>\n",
       "      <td>NaN</td>\n",
       "      <td>43</td>\n",
       "      <td>No</td>\n",
       "    </tr>\n",
       "    <tr>\n",
       "      <th>1657</th>\n",
       "      <td>1988</td>\n",
       "      <td>78</td>\n",
       "      <td>Hot Money</td>\n",
       "      <td>Drama</td>\n",
       "      <td>Welles, Orson</td>\n",
       "      <td>NaN</td>\n",
       "      <td>NaN</td>\n",
       "      <td>19</td>\n",
       "      <td>No</td>\n",
       "    </tr>\n",
       "    <tr>\n",
       "      <th>1658</th>\n",
       "      <td>1977</td>\n",
       "      <td>75</td>\n",
       "      <td>Comedy Tonight</td>\n",
       "      <td>Comedy</td>\n",
       "      <td>Williams, Robin</td>\n",
       "      <td>NaN</td>\n",
       "      <td>NaN</td>\n",
       "      <td>18</td>\n",
       "      <td>No</td>\n",
       "    </tr>\n",
       "    <tr>\n",
       "      <th>1659</th>\n",
       "      <td>1991</td>\n",
       "      <td>65</td>\n",
       "      <td>Robin Williams</td>\n",
       "      <td>Comedy</td>\n",
       "      <td>Williams, Robin</td>\n",
       "      <td>NaN</td>\n",
       "      <td>NaN</td>\n",
       "      <td>4</td>\n",
       "      <td>No</td>\n",
       "    </tr>\n",
       "  </tbody>\n",
       "</table>\n",
       "<p>1659 rows × 9 columns</p>\n",
       "</div>"
      ],
      "text/plain": [
       "      Year Length                     Title Subject                Actor  \\\n",
       "1     1990    111   Tie Me Up! Tie Me Down!  Comedy    Banderas, Antonio   \n",
       "2     1991    113                High Heels  Comedy         Bosé, Miguel   \n",
       "3     1983    104            Dead Zone, The  Horror  Walken, Christopher   \n",
       "4     1979    122                      Cuba  Action        Connery, Sean   \n",
       "5     1978     94            Days of Heaven   Drama        Gere, Richard   \n",
       "...    ...    ...                       ...     ...                  ...   \n",
       "1655  1932    226  Shadow of the Eagle, The  Action          Wayne, John   \n",
       "1656  1989    103              Blood & Guns  Action        Welles, Orson   \n",
       "1657  1988     78                 Hot Money   Drama        Welles, Orson   \n",
       "1658  1977     75            Comedy Tonight  Comedy      Williams, Robin   \n",
       "1659  1991     65            Robin Williams  Comedy      Williams, Robin   \n",
       "\n",
       "              Actress           Director Popularity Awards  \n",
       "1     Abril, Victoria   Almodóvar, Pedro         68     No  \n",
       "2     Abril, Victoria   Almodóvar, Pedro         68     No  \n",
       "3       Adams, Brooke  Cronenberg, David         79     No  \n",
       "4       Adams, Brooke    Lester, Richard          6     No  \n",
       "5       Adams, Brooke   Malick, Terrence         14     No  \n",
       "...               ...                ...        ...    ...  \n",
       "1655              NaN                NaN         19     No  \n",
       "1656              NaN                NaN         43     No  \n",
       "1657              NaN                NaN         19     No  \n",
       "1658              NaN                NaN         18     No  \n",
       "1659              NaN                NaN          4     No  \n",
       "\n",
       "[1659 rows x 9 columns]"
      ]
     },
     "execution_count": 83,
     "metadata": {},
     "output_type": "execute_result"
    }
   ],
   "source": [
    "df"
   ]
  },
  {
   "cell_type": "code",
   "execution_count": 84,
   "metadata": {},
   "outputs": [
    {
     "data": {
      "text/plain": [
       "Year            0\n",
       "Length         67\n",
       "Title           0\n",
       "Subject         2\n",
       "Actor           8\n",
       "Actress       378\n",
       "Director      253\n",
       "Popularity      6\n",
       "Awards          0\n",
       "dtype: int64"
      ]
     },
     "execution_count": 84,
     "metadata": {},
     "output_type": "execute_result"
    }
   ],
   "source": [
    "df.isnull().sum()"
   ]
  },
  {
   "cell_type": "code",
   "execution_count": 85,
   "metadata": {},
   "outputs": [],
   "source": [
    "df.fillna('', inplace=True)"
   ]
  },
  {
   "cell_type": "code",
   "execution_count": 86,
   "metadata": {},
   "outputs": [
    {
     "data": {
      "text/plain": [
       "Year          0\n",
       "Length        0\n",
       "Title         0\n",
       "Subject       0\n",
       "Actor         0\n",
       "Actress       0\n",
       "Director      0\n",
       "Popularity    0\n",
       "Awards        0\n",
       "dtype: int64"
      ]
     },
     "execution_count": 86,
     "metadata": {},
     "output_type": "execute_result"
    }
   ],
   "source": [
    "df.isnull().sum()"
   ]
  },
  {
   "cell_type": "code",
   "execution_count": 87,
   "metadata": {},
   "outputs": [],
   "source": [
    "selected_features = ['Title', 'Subject', 'Actor', 'Actress', 'Director']\n",
    "data_subset = df[selected_features]"
   ]
  },
  {
   "cell_type": "code",
   "execution_count": 88,
   "metadata": {},
   "outputs": [
    {
     "name": "stderr",
     "output_type": "stream",
     "text": [
      "C:\\Users\\huzai\\AppData\\Local\\Temp\\ipykernel_7852\\2700587212.py:1: SettingWithCopyWarning: \n",
      "A value is trying to be set on a copy of a slice from a DataFrame.\n",
      "Try using .loc[row_indexer,col_indexer] = value instead\n",
      "\n",
      "See the caveats in the documentation: https://pandas.pydata.org/pandas-docs/stable/user_guide/indexing.html#returning-a-view-versus-a-copy\n",
      "  data_subset['combined_features'] = data_subset.apply(lambda row: ' '.join(row.values), axis=1)\n"
     ]
    }
   ],
   "source": [
    "data_subset['combined_features'] = data_subset.apply(lambda row: ' '.join(row.values), axis=1)\n"
   ]
  },
  {
   "cell_type": "code",
   "execution_count": 89,
   "metadata": {},
   "outputs": [],
   "source": [
    "# Use CountVectorizer to convert text data into a feature matrix\n",
    "vectorizer = CountVectorizer()\n",
    "feature_matrix = vectorizer.fit_transform(data_subset['combined_features'])\n"
   ]
  },
  {
   "cell_type": "code",
   "execution_count": 90,
   "metadata": {},
   "outputs": [],
   "source": [
    "# Calculate cosine similarity between movies\n",
    "cosine_sim = cosine_similarity(feature_matrix)\n"
   ]
  },
  {
   "cell_type": "code",
   "execution_count": 91,
   "metadata": {},
   "outputs": [],
   "source": [
    "# Create a DataFrame for the similarity matrix\n",
    "cosine_sim_df = pd.DataFrame(cosine_sim, index=df['Title'], columns=df['Title'])\n"
   ]
  },
  {
   "cell_type": "code",
   "execution_count": 92,
   "metadata": {},
   "outputs": [],
   "source": [
    "def get_movie_recommendations(movie_title, top_n=10):\n",
    "    similar_scores = cosine_sim_df[movie_title]\n",
    "    similar_movies = similar_scores.sort_values(ascending=False).index[1:top_n+1]\n",
    "    return similar_movies\n"
   ]
  },
  {
   "cell_type": "code",
   "execution_count": 99,
   "metadata": {},
   "outputs": [
    {
     "data": {
      "text/html": [
       "<div>\n",
       "<style scoped>\n",
       "    .dataframe tbody tr th:only-of-type {\n",
       "        vertical-align: middle;\n",
       "    }\n",
       "\n",
       "    .dataframe tbody tr th {\n",
       "        vertical-align: top;\n",
       "    }\n",
       "\n",
       "    .dataframe thead th {\n",
       "        text-align: right;\n",
       "    }\n",
       "</style>\n",
       "<table border=\"1\" class=\"dataframe\">\n",
       "  <thead>\n",
       "    <tr style=\"text-align: right;\">\n",
       "      <th></th>\n",
       "      <th>Year</th>\n",
       "      <th>Length</th>\n",
       "      <th>Title</th>\n",
       "      <th>Subject</th>\n",
       "      <th>Actor</th>\n",
       "      <th>Actress</th>\n",
       "      <th>Director</th>\n",
       "      <th>Popularity</th>\n",
       "      <th>Awards</th>\n",
       "    </tr>\n",
       "  </thead>\n",
       "  <tbody>\n",
       "    <tr>\n",
       "      <th>1</th>\n",
       "      <td>1990</td>\n",
       "      <td>111</td>\n",
       "      <td>Tie Me Up! Tie Me Down!</td>\n",
       "      <td>Comedy</td>\n",
       "      <td>Banderas, Antonio</td>\n",
       "      <td>Abril, Victoria</td>\n",
       "      <td>Almodóvar, Pedro</td>\n",
       "      <td>68</td>\n",
       "      <td>No</td>\n",
       "    </tr>\n",
       "  </tbody>\n",
       "</table>\n",
       "</div>"
      ],
      "text/plain": [
       "   Year Length                    Title Subject              Actor  \\\n",
       "1  1990    111  Tie Me Up! Tie Me Down!  Comedy  Banderas, Antonio   \n",
       "\n",
       "           Actress          Director Popularity Awards  \n",
       "1  Abril, Victoria  Almodóvar, Pedro         68     No  "
      ]
     },
     "execution_count": 99,
     "metadata": {},
     "output_type": "execute_result"
    }
   ],
   "source": [
    "df.head(1)"
   ]
  },
  {
   "cell_type": "code",
   "execution_count": 100,
   "metadata": {},
   "outputs": [
    {
     "name": "stdout",
     "output_type": "stream",
     "text": [
      "Recommendation  Wheel of Fortune\n",
      "Recommendation  Long Voyage Home, The\n",
      "Recommendation  Wings of Eagles, The\n",
      "Recommendation  Victory\n",
      "Recommendation  Midnight Cowboy\n",
      "Recommendation  Inserts\n",
      "Recommendation  Arrowsmith\n",
      "Recommendation  Darling\n",
      "Recommendation  Rocky\n",
      "Recommendation  Dillinger\n"
     ]
    }
   ],
   "source": [
    "\n",
    "# Example: Get top 10 recommendations for a specific movie\n",
    "movie_title = 'Shakespeare Series' \n",
    "recommendations = get_movie_recommendations(movie_title, top_n=10)\n",
    "\n",
    "for recommendation in recommendations:\n",
    "    print('Recommendation ',recommendation)"
   ]
  },
  {
   "cell_type": "code",
   "execution_count": 101,
   "metadata": {},
   "outputs": [
    {
     "name": "stderr",
     "output_type": "stream",
     "text": [
      "C:\\Users\\huzai\\AppData\\Local\\Temp\\ipykernel_7852\\4188034900.py:2: FutureWarning: \n",
      "\n",
      "Passing `palette` without assigning `hue` is deprecated and will be removed in v0.14.0. Assign the `y` variable to `hue` and set `legend=False` for the same effect.\n",
      "\n",
      "  sns.barplot(x=cosine_sim_df.loc[movie_title, recommendations], y=recommendations, palette='viridis')\n"
     ]
    },
    {
     "data": {
      "image/png": "[encoded data removed]",
      "text/plain": [
       "<Figure size 1000x600 with 1 Axes>"
      ]
     },
     "metadata": {},
     "output_type": "display_data"
    }
   ],
   "source": [
    "plt.figure(figsize=(10, 6))\n",
    "sns.barplot(x=cosine_sim_df.loc[movie_title, recommendations], y=recommendations, palette='viridis')\n",
    "plt.title(f'Top 10 Recommended Movies for \"{movie_title}\"')\n",
    "plt.xlabel('Cosine Similarity Score')\n",
    "plt.ylabel('Movie Title')\n",
    "plt.show()"
   ]
  },
  {
   "cell_type": "code",
   "execution_count": null,
   "metadata": {},
   "outputs": [],
   "source": []
  }
 ],
 "metadata": {
  "kernelspec": {
   "display_name": "Python 3",
   "language": "python",
   "name": "python3"
  },
  "language_info": {
   "codemirror_mode": {
    "name": "ipython",
    "version": 3
   },
   "file_extension": ".py",
   "mimetype": "text/x-python",
   "name": "python",
   "nbconvert_exporter": "python",
   "pygments_lexer": "ipython3",
   "version": "3.12.0"
  }
 },
 "nbformat": 4,
 "nbformat_minor": 2
}
