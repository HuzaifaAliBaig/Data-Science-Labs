{
 "cells": [
  {
   "cell_type": "code",
   "execution_count": 12,
   "metadata": {},
   "outputs": [],
   "source": [
    "import pandas as pd\n",
    "import numpy as np\n",
    "from bs4 import BeautifulSoup\n",
    "import requests\n",
    "import nltk\n",
    "from nltk.sentiment.vader import SentimentIntensityAnalyzer\n",
    "import matplotlib.pyplot as plt\n",
    "import seaborn as sns"
   ]
  },
  {
   "cell_type": "code",
   "execution_count": 13,
   "metadata": {},
   "outputs": [],
   "source": [
    "def link_generator(url):\n",
    "    page = url\n",
    "    page_base = page[:-1]\n",
    "    links = []\n",
    "    # generating links fpr different Review Pages\n",
    "    for link in range(1,10):\n",
    "        links.append(page_base+str(link))\n",
    "    return links\n",
    "\n",
    "#function to scrape Data\n",
    "def Scrape(links):\n",
    "    \n",
    "    stars = []\n",
    "    content = []\n",
    "    titles = []\n",
    "    \n",
    "    for page in links:\n",
    "        r = requests.get(page)\n",
    "        soup = BeautifulSoup(r.text, 'html.parser')\n",
    "        for star in soup.find_all('div', class_='ebay-review-section-l'): \n",
    "            stars.append(star.find('span','star-rating')['aria-label'])\n",
    "            #logging\n",
    "            # print(f\"appending{star} \")\n",
    "        \n",
    "        for review_content in soup.find_all('p', class_ = 'review-item-content rvw-wrap-spaces'): \n",
    "            content.append(review_content.text)\n",
    "            #logging\n",
    "            # print(f\"appending{review_content} \")\n",
    "    \n",
    "        for review_title in soup.find_all('h3', class_ = 'review-item-title rvw-nowrap-spaces'): \n",
    "            titles.append(review_title.text)\n",
    "            #logging\n",
    "            # print(f\"appending{review_title} \")\n",
    "            \n",
    "    return stars, content, titles"
   ]
  },
  {
   "cell_type": "code",
   "execution_count": 14,
   "metadata": {},
   "outputs": [],
   "source": [
    "df = []\n",
    "df = pd.DataFrame(df)"
   ]
  },
  {
   "cell_type": "code",
   "execution_count": 15,
   "metadata": {},
   "outputs": [],
   "source": [
    "url = 'https://www.ebay.com/urw/Apple-HomePod-mini-Smart-Speaker-Space-Gray/product-reviews/242647970?_itm=354982116782&pgn=1'\n",
    "links = link_generator(url)"
   ]
  },
  {
   "cell_type": "code",
   "execution_count": 16,
   "metadata": {},
   "outputs": [],
   "source": [
    "stars, content, titles = Scrape(links) "
   ]
  },
  {
   "cell_type": "code",
   "execution_count": 17,
   "metadata": {},
   "outputs": [],
   "source": [
    "df['Review Title'] = titles\n",
    "df['Review Content'] = content\n",
    "df['Stars'] = stars\n"
   ]
  },
  {
   "cell_type": "code",
   "execution_count": 18,
   "metadata": {},
   "outputs": [
    {
     "data": {
      "text/html": [
       "<div>\n",
       "<style scoped>\n",
       "    .dataframe tbody tr th:only-of-type {\n",
       "        vertical-align: middle;\n",
       "    }\n",
       "\n",
       "    .dataframe tbody tr th {\n",
       "        vertical-align: top;\n",
       "    }\n",
       "\n",
       "    .dataframe thead th {\n",
       "        text-align: right;\n",
       "    }\n",
       "</style>\n",
       "<table border=\"1\" class=\"dataframe\">\n",
       "  <thead>\n",
       "    <tr style=\"text-align: right;\">\n",
       "      <th></th>\n",
       "      <th>Review Title</th>\n",
       "      <th>Review Content</th>\n",
       "      <th>Stars</th>\n",
       "    </tr>\n",
       "  </thead>\n",
       "  <tbody>\n",
       "    <tr>\n",
       "      <th>0</th>\n",
       "      <td>Perfect Bridge to view security cameras remote...</td>\n",
       "      <td>Rather than purchasing Arlo  remote viewing se...</td>\n",
       "      <td>5 stars</td>\n",
       "    </tr>\n",
       "    <tr>\n",
       "      <th>1</th>\n",
       "      <td>Poor sound quality</td>\n",
       "      <td>I have a new one directly from apple the store...</td>\n",
       "      <td>1 stars</td>\n",
       "    </tr>\n",
       "    <tr>\n",
       "      <th>2</th>\n",
       "      <td>Easy set up. easy to use. Get 2 for stereo</td>\n",
       "      <td>I play it mostly as low level background but i...</td>\n",
       "      <td>5 stars</td>\n",
       "    </tr>\n",
       "    <tr>\n",
       "      <th>3</th>\n",
       "      <td>Great product, Sounds awesome, looks brand new...</td>\n",
       "      <td>HomePod was in good shape. Opening the package...</td>\n",
       "      <td>5 stars</td>\n",
       "    </tr>\n",
       "    <tr>\n",
       "      <th>4</th>\n",
       "      <td>Homebod, is just not another fancy speaker.. i...</td>\n",
       "      <td>very nice to have such product in home..I thou...</td>\n",
       "      <td>5 stars</td>\n",
       "    </tr>\n",
       "    <tr>\n",
       "      <th>5</th>\n",
       "      <td>Apple HomePod - A Great Speaker!</td>\n",
       "      <td>I have a Samsung smart TV but the sound is abs...</td>\n",
       "      <td>5 stars</td>\n",
       "    </tr>\n",
       "    <tr>\n",
       "      <th>6</th>\n",
       "      <td>The best shop</td>\n",
       "      <td>I already had two HomePods (1 in living room a...</td>\n",
       "      <td>5 stars</td>\n",
       "    </tr>\n",
       "    <tr>\n",
       "      <th>7</th>\n",
       "      <td>Great sound in a small form</td>\n",
       "      <td>The original HomePod is expensive, but I would...</td>\n",
       "      <td>5 stars</td>\n",
       "    </tr>\n",
       "    <tr>\n",
       "      <th>8</th>\n",
       "      <td>Rich sound in a small package....</td>\n",
       "      <td>Bought this speaker for a very small home offi...</td>\n",
       "      <td>5 stars</td>\n",
       "    </tr>\n",
       "    <tr>\n",
       "      <th>9</th>\n",
       "      <td>Excellent product / excellent seller</td>\n",
       "      <td>The HomePod is amazing. This is my second one ...</td>\n",
       "      <td>5 stars</td>\n",
       "    </tr>\n",
       "  </tbody>\n",
       "</table>\n",
       "</div>"
      ],
      "text/plain": [
       "                                        Review Title  \\\n",
       "0  Perfect Bridge to view security cameras remote...   \n",
       "1                                Poor sound quality    \n",
       "2         Easy set up. easy to use. Get 2 for stereo   \n",
       "3  Great product, Sounds awesome, looks brand new...   \n",
       "4  Homebod, is just not another fancy speaker.. i...   \n",
       "5                   Apple HomePod - A Great Speaker!   \n",
       "6                                      The best shop   \n",
       "7                        Great sound in a small form   \n",
       "8                  Rich sound in a small package....   \n",
       "9               Excellent product / excellent seller   \n",
       "\n",
       "                                      Review Content    Stars  \n",
       "0  Rather than purchasing Arlo  remote viewing se...  5 stars  \n",
       "1  I have a new one directly from apple the store...  1 stars  \n",
       "2  I play it mostly as low level background but i...  5 stars  \n",
       "3  HomePod was in good shape. Opening the package...  5 stars  \n",
       "4  very nice to have such product in home..I thou...  5 stars  \n",
       "5  I have a Samsung smart TV but the sound is abs...  5 stars  \n",
       "6  I already had two HomePods (1 in living room a...  5 stars  \n",
       "7  The original HomePod is expensive, but I would...  5 stars  \n",
       "8  Bought this speaker for a very small home offi...  5 stars  \n",
       "9  The HomePod is amazing. This is my second one ...  5 stars  "
      ]
     },
     "execution_count": 18,
     "metadata": {},
     "output_type": "execute_result"
    }
   ],
   "source": [
    "df.head(10)\n"
   ]
  },
  {
   "cell_type": "code",
   "execution_count": 19,
   "metadata": {},
   "outputs": [
    {
     "name": "stderr",
     "output_type": "stream",
     "text": [
      "[nltk_data] Downloading package vader_lexicon to\n",
      "[nltk_data]     C:\\Users\\huzai\\AppData\\Roaming\\nltk_data...\n",
      "[nltk_data]   Package vader_lexicon is already up-to-date!\n"
     ]
    },
    {
     "data": {
      "text/plain": [
       "True"
      ]
     },
     "execution_count": 19,
     "metadata": {},
     "output_type": "execute_result"
    }
   ],
   "source": [
    "nltk.download('vader_lexicon')"
   ]
  },
  {
   "cell_type": "code",
   "execution_count": 20,
   "metadata": {},
   "outputs": [],
   "source": [
    "\n",
    "df['Combined Review'] = df['Review Title'] + ' ' + df['Review Content']\n",
    "sid = SentimentIntensityAnalyzer()\n",
    "df['Sentiment Combined'] = df['Combined Review'].apply(lambda x: sid.polarity_scores(x)['compound'])\n",
    "# print(df)\n",
    "df.to_csv(\"Combined Reviews.csv\")\n",
    "# print(df[['Review Title', 'Review Content', 'Sentiment Combined']])\n",
    "# df.to_csv(\"testDataset.csv\")"
   ]
  },
  {
   "cell_type": "code",
   "execution_count": 21,
   "metadata": {},
   "outputs": [
    {
     "data": {
      "image/png": "[encoded data removed]",
      "text/plain": [
       "<Figure size 1000x600 with 1 Axes>"
      ]
     },
     "metadata": {},
     "output_type": "display_data"
    }
   ],
   "source": [
    "conditions_combined = [\n",
    "    (df['Sentiment Combined'] > 0),\n",
    "    (df['Sentiment Combined'] == 0),\n",
    "    (df['Sentiment Combined'] < 0)\n",
    "]\n",
    "\n",
    "choices = ['Positive', 'Neutral', 'Negative']\n",
    "df['Sentiment_Category_Combined'] = np.select(conditions_combined, choices, default='Neutral')\n",
    "sentiment_counts_Combined = df['Sentiment_Category_Combined'].value_counts()\n",
    "\n",
    "# Plot the sentiment wrt Combined Review in a bar graph\n",
    "plt.figure(figsize=(10, 6))\n",
    "sentiment_counts_Combined.plot(kind='bar', color=['green', 'red', 'blue'])\n",
    "plt.title('Sentiment Counts wrt Combined Review')\n",
    "plt.xlabel('Sentiment Category')\n",
    "plt.ylabel('Counts')\n",
    "plt.xticks(rotation=0)\n",
    "plt.show()"
   ]
  },
  {
   "cell_type": "code",
   "execution_count": 22,
   "metadata": {},
   "outputs": [
    {
     "data": {
      "image/png": "[encoded data removed]",
      "text/plain": [
       "<Figure size 800x800 with 1 Axes>"
      ]
     },
     "metadata": {},
     "output_type": "display_data"
    }
   ],
   "source": [
    "plt.figure(figsize=(8, 8))\n",
    "plt.pie(sentiment_counts_Combined, labels=sentiment_counts_Combined.index, autopct='%1.1f%%', colors=['green', 'red', 'blue'])\n",
    "plt.title('Sentiment Distribution')\n",
    "plt.show()\n"
   ]
  }
 ],
 "metadata": {
  "kernelspec": {
   "display_name": "Python 3",
   "language": "python",
   "name": "python3"
  },
  "language_info": {
   "codemirror_mode": {
    "name": "ipython",
    "version": 3
   },
   "file_extension": ".py",
   "mimetype": "text/x-python",
   "name": "python",
   "nbconvert_exporter": "python",
   "pygments_lexer": "ipython3",
   "version": "3.12.0"
  }
 },
 "nbformat": 4,
 "nbformat_minor": 2
}
